{
 "cells": [
  {
   "cell_type": "markdown",
   "id": "ad18d077",
   "metadata": {},
   "source": [
    "# Колодий Антон, гр. 8376"
   ]
  },
  {
   "cell_type": "markdown",
   "id": "eb0b9d0d",
   "metadata": {},
   "source": [
    "Я взял новый датасет с \"объявлениями\" о продаже автомобилей. \n",
    "Очень долго пытался объединять данные так, чтобы получались хорошие кластеры, но прям явных групп у меня так и не получилось.\n",
    "Но тем не менее:"
   ]
  },
  {
   "cell_type": "code",
   "execution_count": null,
   "id": "d622710b",
   "metadata": {},
   "outputs": [],
   "source": [
    "import numpy as np\n",
    "import pandas as pd"
   ]
  },
  {
   "cell_type": "code",
   "execution_count": null,
   "id": "80a54dbb",
   "metadata": {},
   "outputs": [],
   "source": [
    "df = pd.read_csv('cars.csv')\n",
    "#В датасете есть лишний столбец индексов, уберем его сразу\n",
    "df = df.drop(df.columns[[0]], axis=1)\n",
    "df.head()"
   ]
  },
  {
   "cell_type": "markdown",
   "id": "a06ccb51",
   "metadata": {},
   "source": [
    "В датасете представлены марки и модели автомобилей, продающихся в какой-то стране. Так же есть информация о двигателе, годе выпуска, о пробеге, типе топлива и коробке передач.\n"
   ]
  },
  {
   "cell_type": "markdown",
   "id": "00137e77",
   "metadata": {},
   "source": [
    "Введем новый атрибут возраст авто: age"
   ]
  },
  {
   "cell_type": "markdown",
   "id": "a55409d2",
   "metadata": {},
   "source": [
    "# AGE"
   ]
  },
  {
   "cell_type": "code",
   "execution_count": null,
   "id": "619796e9",
   "metadata": {},
   "outputs": [],
   "source": [
    "interpret = pd.Series([])\n",
    "for i in range(len(df)):\n",
    "    interpret[i]=2023 - df[\"year\"][i]"
   ]
  },
  {
   "cell_type": "code",
   "execution_count": null,
   "id": "fe994de6",
   "metadata": {},
   "outputs": [],
   "source": [
    "df.insert(5,\"age\", interpret)"
   ]
  },
  {
   "cell_type": "markdown",
   "id": "9ccf2cab",
   "metadata": {},
   "source": [
    "# Результат введения нового атрибута"
   ]
  },
  {
   "cell_type": "code",
   "execution_count": null,
   "id": "264a2c83",
   "metadata": {},
   "outputs": [],
   "source": [
    "df"
   ]
  },
  {
   "cell_type": "markdown",
   "id": "81933a4d",
   "metadata": {},
   "source": [
    "В датасете не оказалось выбросов, поэтому я стер за ненадобностью применение метода z-оценки. Точнее были выброшены некоторые дорогие автомобили, но это не выбросы, они действительно штучно продаются."
   ]
  },
  {
   "cell_type": "markdown",
   "id": "df338d78",
   "metadata": {},
   "source": [
    "# Графики зависимости от введенного атрибута"
   ]
  },
  {
   "cell_type": "code",
   "execution_count": null,
   "id": "2c72ddc7",
   "metadata": {},
   "outputs": [],
   "source": [
    "import matplotlib.pyplot as plt\n",
    "import seaborn as sns"
   ]
  },
  {
   "cell_type": "code",
   "execution_count": null,
   "id": "838560c1",
   "metadata": {},
   "outputs": [],
   "source": [
    "plt.scatter(df[\"age\"], df[\"brand\"], c=\"red\", s=20)\n",
    "plt.xlabel(\"age\")\n",
    "plt.xticks(range(1, 20))\n",
    "plt.ylabel(\"brand\")"
   ]
  },
  {
   "cell_type": "markdown",
   "id": "f67c935f",
   "metadata": {},
   "source": []
  },
  {
   "cell_type": "code",
   "execution_count": null,
   "id": "f2267f78",
   "metadata": {},
   "outputs": [],
   "source": [
    "plt.scatter(df[\"age\"], df[\"price (eur)\"], c=\"green\")\n",
    "plt.xlabel(\"age\")\n",
    "plt.xticks(range(1, 20))\n",
    "plt.ylabel(\"price\")"
   ]
  },
  {
   "cell_type": "markdown",
   "id": "532243d1",
   "metadata": {},
   "source": [
    "# График зависимости стоимости от марки (или наоборот)"
   ]
  },
  {
   "cell_type": "code",
   "execution_count": null,
   "id": "83b2381e",
   "metadata": {},
   "outputs": [],
   "source": [
    "plt.scatter(df[\"price (eur)\"], df[\"brand\"], c=\"blue\")\n",
    "plt.ylabel(\"brand\")\n",
    "plt.xlabel(\"price\")"
   ]
  },
  {
   "cell_type": "markdown",
   "id": "a17b63f9",
   "metadata": {},
   "source": [
    "# Промежуточный итог"
   ]
  },
  {
   "cell_type": "markdown",
   "id": "deb731ca",
   "metadata": {},
   "source": [
    "К сожалению, такой подход не позволяет нормально определить кластеры, кроме как \"Основная масса сосредоточена в цене от 10 до 20 тыс.\" Связано это с тем, что представлено много брендов и моделей и все они перемешаны.\n",
    "\n",
    "Попробуем хотя бы рассматривать зависимости в рамках определенных стран-производителей. Но я не буду брать все авто-производители страны, чтобы не было вновь значительного наложения данных."
   ]
  },
  {
   "cell_type": "code",
   "execution_count": null,
   "id": "ad3c6817",
   "metadata": {},
   "outputs": [],
   "source": [
    "#Германия\n",
    "deutch_df = df.loc[(df['brand'].isin(['Mercedes', 'BMW', 'Volkswagen']))]\n",
    "plt.scatter(deutch_df[\"price (eur)\"], deutch_df[\"brand\"], c=\"orange\")\n",
    "plt.ylabel(\"brand\")\n",
    "plt.xlabel(\"price\")"
   ]
  },
  {
   "cell_type": "code",
   "execution_count": null,
   "id": "739accd6",
   "metadata": {},
   "outputs": [],
   "source": [
    "plt.scatter(deutch_df[\"age\"], deutch_df[\"price (eur)\"], c=\"green\")\n",
    "plt.xlabel(\"age\")\n",
    "plt.xticks(range(1, 20))\n",
    "plt.ylabel(\"price\")"
   ]
  },
  {
   "cell_type": "markdown",
   "id": "33df9a72",
   "metadata": {},
   "source": [
    "Теперь мы видим небольшой кластер дорогих(>50тыс) автомобилей возрастом 5-6 лет, большой кластер автомобилей возрастом 5-8 лет стоимостью 20-40 тысяч и небольшой кластер автомобилей со стоимостью около 10 тысяч. \n"
   ]
  },
  {
   "cell_type": "code",
   "execution_count": null,
   "id": "431bfc56",
   "metadata": {},
   "outputs": [],
   "source": [
    "#Япония\n",
    "jap_df = df.loc[(df['brand'].isin(['Nissan', 'Mitsubishi', 'Honda']))]\n",
    "plt.scatter(jap_df[\"price (eur)\"], jap_df[\"brand\"], c=\"orange\")\n",
    "plt.ylabel(\"brand\")\n",
    "plt.xlabel(\"price\")"
   ]
  },
  {
   "cell_type": "code",
   "execution_count": null,
   "id": "6766128a",
   "metadata": {},
   "outputs": [],
   "source": [
    "plt.scatter(jap_df[\"age\"], jap_df[\"price (eur)\"], c=\"green\")\n",
    "plt.xlabel(\"age\")\n",
    "plt.xticks(range(1, 20))\n",
    "plt.ylabel(\"price\")"
   ]
  },
  {
   "cell_type": "markdown",
   "id": "a53cfeb0",
   "metadata": {},
   "source": [
    "Здесь тоже заметно несколько кластеров: машины возрастом от 10 до 12 лет стоимостью около 10 тыс. формируют один кластер.\n",
    "Машины возрастом 5-8 лет со стоимостью 15-20 тысяч второй явный кластер.\n",
    "Машины дешевле 15 тысяч и возрастом 4-7 лет - еще один кластер.\n"
   ]
  },
  {
   "cell_type": "code",
   "execution_count": null,
   "id": "19cc530b",
   "metadata": {},
   "outputs": [],
   "source": [
    "#Франция\n",
    "fr_df = df.loc[(df['brand'].isin(['Renault', 'Citroen', 'Peugeot']))]\n",
    "plt.scatter(fr_df[\"price (eur)\"], fr_df[\"brand\"], c=\"orange\")\n",
    "plt.ylabel(\"brand\")\n",
    "plt.xlabel(\"price\")"
   ]
  },
  {
   "cell_type": "code",
   "execution_count": null,
   "id": "79f22ea6",
   "metadata": {},
   "outputs": [],
   "source": [
    "plt.scatter(fr_df[\"age\"], fr_df[\"price (eur)\"], c=\"green\")\n",
    "plt.xlabel(\"age\")\n",
    "plt.xticks(range(1, 20))\n",
    "plt.ylabel(\"price\")"
   ]
  },
  {
   "cell_type": "markdown",
   "id": "aee874e8",
   "metadata": {},
   "source": [
    "Здесь тоже можно выделить несколько кластеров: автомобили с ценой выше 15 тысяч, \n",
    "автомобили возрастом 2-11 лет с ценой ниже 15 тысяч\n",
    "и 3 старых автомобиля 13-19 лет."
   ]
  },
  {
   "cell_type": "markdown",
   "id": "db476e5b",
   "metadata": {},
   "source": [
    "Но явных групп так  ине удалось выявить. Попробуем объединить предыдущие три страны, может что-то получится. И заменим bmw на opel."
   ]
  },
  {
   "cell_type": "code",
   "execution_count": null,
   "id": "f2823f79",
   "metadata": {},
   "outputs": [],
   "source": [
    "group_df = df.loc[(df['brand'].isin(['Mercedes', 'Opel', 'Volkswagen','Nissan', 'Mitsubishi', 'Honda','Renault', 'Citroen', 'Peugeot']))]\n",
    "plt.scatter(group_df[\"price (eur)\"], group_df[\"brand\"], c=\"orange\")\n",
    "plt.ylabel(\"brand\")\n",
    "plt.xlabel(\"price\")"
   ]
  },
  {
   "cell_type": "code",
   "execution_count": null,
   "id": "e12eb019",
   "metadata": {},
   "outputs": [],
   "source": [
    "plt.scatter(group_df[\"age\"], group_df[\"price (eur)\"], c=\"green\")\n",
    "plt.xlabel(\"age\")\n",
    "plt.xticks(range(1, 20))\n",
    "plt.ylabel(\"price\")"
   ]
  },
  {
   "cell_type": "markdown",
   "id": "74d96b51",
   "metadata": {},
   "source": [
    "Давайте попробуем взять 2 самые дешевые и 2 дорогие марки в рамках датасета"
   ]
  },
  {
   "cell_type": "code",
   "execution_count": null,
   "id": "1492ffb2",
   "metadata": {},
   "outputs": [],
   "source": [
    "#2 дешевые и 2 дорогие\n",
    "vs_df = df.loc[(df['brand'].isin(['Renault', 'Mini', 'Mercedes', 'Land']))]\n",
    "plt.scatter(vs_df[\"price (eur)\"], vs_df[\"brand\"], c=\"orange\")\n",
    "plt.ylabel(\"brand\")\n",
    "plt.xlabel(\"price\")"
   ]
  },
  {
   "cell_type": "code",
   "execution_count": null,
   "id": "72e86e54",
   "metadata": {},
   "outputs": [],
   "source": [
    "plt.scatter(vs_df[\"age\"], vs_df[\"price (eur)\"], c=\"green\")\n",
    "plt.xlabel(\"age\")\n",
    "plt.xticks(range(1, 20))\n",
    "plt.ylabel(\"price\")"
   ]
  },
  {
   "cell_type": "markdown",
   "id": "b5e88ace",
   "metadata": {},
   "source": [
    "Здесь можно выделить 4 кластера. 3 точки наверху, затем в цене около 30-40 тысяч, затем две группы примерно в разрезе 20 тысяч."
   ]
  },
  {
   "cell_type": "markdown",
   "id": "0ab08d88",
   "metadata": {},
   "source": [
    "# K-Means"
   ]
  },
  {
   "cell_type": "markdown",
   "id": "8b504ff9",
   "metadata": {},
   "source": [
    "По двум рассмотренным группам предлагаю вариант применения метода KMeans."
   ]
  },
  {
   "cell_type": "code",
   "execution_count": null,
   "id": "18058b73",
   "metadata": {},
   "outputs": [],
   "source": [
    "#начнем с группы двух дорогих и 2 недорогих брендов\n",
    "vs_df"
   ]
  },
  {
   "cell_type": "code",
   "execution_count": null,
   "id": "e8fdb8ec",
   "metadata": {},
   "outputs": [],
   "source": [
    "from sklearn.cluster import KMeans"
   ]
  },
  {
   "cell_type": "code",
   "execution_count": null,
   "id": "04188ba4",
   "metadata": {},
   "outputs": [],
   "source": [
    "cluster_df = pd.concat([vs_df[\"age\"], vs_df[\"price (eur)\"]], axis=1, keys=[\"age\", \"price (eur)\"])\n",
    "kmeans=KMeans(n_clusters=4)\n",
    "kmeans.fit(cluster_df)\n",
    "label = kmeans.fit_predict(cluster_df)"
   ]
  },
  {
   "cell_type": "code",
   "execution_count": null,
   "id": "19158da6",
   "metadata": {},
   "outputs": [],
   "source": [
    "#Векторы центров кластеров\n",
    "kmeans.cluster_centers_"
   ]
  },
  {
   "cell_type": "code",
   "execution_count": null,
   "id": "6d645aa1",
   "metadata": {},
   "outputs": [],
   "source": [
    "#Построим графики\n",
    "u_labels = np.unique(label)\n",
    " \n",
    "for i in u_labels:\n",
    "    plt.scatter(cluster_df.iloc[label == i , 0] , cluster_df.iloc[label == i , 1] , label = i)\n",
    "plt.legend()\n",
    "plt.xlabel(\"age\")\n",
    "plt.ylabel(\"price\")\n",
    "plt.show()"
   ]
  },
  {
   "cell_type": "markdown",
   "id": "ed08efbd",
   "metadata": {},
   "source": [
    "Метод K-средних очень хорошо представил кластеризацию, как я описывал ранее.\n",
    "\n",
    "Теперь посмотрим на группу немецких автомобилей, там тоже можно было выделить кластеры."
   ]
  },
  {
   "cell_type": "code",
   "execution_count": null,
   "id": "4e28a93c",
   "metadata": {},
   "outputs": [],
   "source": [
    "cluster_df1 = pd.concat([deutch_df[\"age\"], deutch_df[\"price (eur)\"]], axis=1, keys=[\"age\", \"price (eur)\"])\n",
    "kmeans=KMeans(n_clusters=3)\n",
    "kmeans.fit(cluster_df1)\n",
    "label = kmeans.fit_predict(cluster_df1)"
   ]
  },
  {
   "cell_type": "code",
   "execution_count": null,
   "id": "61bf38ef",
   "metadata": {},
   "outputs": [],
   "source": [
    "#Построим график\n",
    "u_labels = np.unique(label)\n",
    " \n",
    "for i in u_labels:\n",
    "    plt.scatter(cluster_df1.iloc[label == i , 0] , cluster_df1.iloc[label == i , 1] , label = i)\n",
    "plt.legend()\n",
    "plt.xlabel(\"age\")\n",
    "plt.ylabel(\"price\")\n",
    "plt.show()"
   ]
  },
  {
   "cell_type": "markdown",
   "id": "4ca0263b",
   "metadata": {},
   "source": [
    "Метод K-средних определил третьим кластером автомобили дешевле 20 000, когда я предсказывал около 10 000. Но остальное правильно."
   ]
  }
 ],
 "metadata": {
  "kernelspec": {
   "display_name": "Python 3 (ipykernel)",
   "language": "python",
   "name": "python3"
  },
  "language_info": {
   "codemirror_mode": {
    "name": "ipython",
    "version": 3
   },
   "file_extension": ".py",
   "mimetype": "text/x-python",
   "name": "python",
   "nbconvert_exporter": "python",
   "pygments_lexer": "ipython3",
   "version": "3.7.9"
  }
 },
 "nbformat": 4,
 "nbformat_minor": 5
}
