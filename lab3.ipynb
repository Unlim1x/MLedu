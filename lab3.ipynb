{
 "cells": [
  {
   "cell_type": "markdown",
   "id": "e919858c",
   "metadata": {},
   "source": [
    "# Колодий Антон, гр. 8376"
   ]
  },
  {
   "cell_type": "markdown",
   "id": "b2dd8fb1",
   "metadata": {},
   "source": [
    "Поскольку мне не очень понравился датасет, который я выбрал для второго задания, то для третьей работы я выбрал новый. \n",
    "Он содержит информацию о звездах. Дополнительно я проверил две звезды, не входящие в датасет.\n",
    "\n",
    "Задача, которая ставится перед моделью классификации: предсказать, к какому типу звёзд относится некоторая звезда."
   ]
  },
  {
   "cell_type": "code",
   "execution_count": 233,
   "id": "7592010c",
   "metadata": {},
   "outputs": [],
   "source": [
    "import numpy as np\n",
    "import pandas as pd"
   ]
  },
  {
   "cell_type": "code",
   "execution_count": 234,
   "id": "df7ecd4b",
   "metadata": {},
   "outputs": [
    {
     "data": {
      "text/html": [
       "<div>\n",
       "<style scoped>\n",
       "    .dataframe tbody tr th:only-of-type {\n",
       "        vertical-align: middle;\n",
       "    }\n",
       "\n",
       "    .dataframe tbody tr th {\n",
       "        vertical-align: top;\n",
       "    }\n",
       "\n",
       "    .dataframe thead th {\n",
       "        text-align: right;\n",
       "    }\n",
       "</style>\n",
       "<table border=\"1\" class=\"dataframe\">\n",
       "  <thead>\n",
       "    <tr style=\"text-align: right;\">\n",
       "      <th></th>\n",
       "      <th>Temperature</th>\n",
       "      <th>L</th>\n",
       "      <th>R</th>\n",
       "      <th>A_M</th>\n",
       "      <th>Color</th>\n",
       "      <th>Spectral_Class</th>\n",
       "      <th>Type</th>\n",
       "    </tr>\n",
       "  </thead>\n",
       "  <tbody>\n",
       "    <tr>\n",
       "      <th>0</th>\n",
       "      <td>3068</td>\n",
       "      <td>0.002400</td>\n",
       "      <td>0.1700</td>\n",
       "      <td>16.12</td>\n",
       "      <td>Red</td>\n",
       "      <td>M</td>\n",
       "      <td>0</td>\n",
       "    </tr>\n",
       "    <tr>\n",
       "      <th>1</th>\n",
       "      <td>3042</td>\n",
       "      <td>0.000500</td>\n",
       "      <td>0.1542</td>\n",
       "      <td>16.60</td>\n",
       "      <td>Red</td>\n",
       "      <td>M</td>\n",
       "      <td>0</td>\n",
       "    </tr>\n",
       "    <tr>\n",
       "      <th>2</th>\n",
       "      <td>2600</td>\n",
       "      <td>0.000300</td>\n",
       "      <td>0.1020</td>\n",
       "      <td>18.70</td>\n",
       "      <td>Red</td>\n",
       "      <td>M</td>\n",
       "      <td>0</td>\n",
       "    </tr>\n",
       "    <tr>\n",
       "      <th>3</th>\n",
       "      <td>2800</td>\n",
       "      <td>0.000200</td>\n",
       "      <td>0.1600</td>\n",
       "      <td>16.65</td>\n",
       "      <td>Red</td>\n",
       "      <td>M</td>\n",
       "      <td>0</td>\n",
       "    </tr>\n",
       "    <tr>\n",
       "      <th>4</th>\n",
       "      <td>1939</td>\n",
       "      <td>0.000138</td>\n",
       "      <td>0.1030</td>\n",
       "      <td>20.06</td>\n",
       "      <td>Red</td>\n",
       "      <td>M</td>\n",
       "      <td>0</td>\n",
       "    </tr>\n",
       "  </tbody>\n",
       "</table>\n",
       "</div>"
      ],
      "text/plain": [
       "   Temperature         L       R    A_M Color Spectral_Class  Type\n",
       "0         3068  0.002400  0.1700  16.12   Red              M     0\n",
       "1         3042  0.000500  0.1542  16.60   Red              M     0\n",
       "2         2600  0.000300  0.1020  18.70   Red              M     0\n",
       "3         2800  0.000200  0.1600  16.65   Red              M     0\n",
       "4         1939  0.000138  0.1030  20.06   Red              M     0"
      ]
     },
     "execution_count": 234,
     "metadata": {},
     "output_type": "execute_result"
    }
   ],
   "source": [
    "df = pd.read_csv('stars.csv')\n",
    "df.head()"
   ]
  },
  {
   "cell_type": "markdown",
   "id": "d73290f7",
   "metadata": {},
   "source": [
    "Целевой класс - Type. Это тип звезды от 0 до 5\n",
    "\n",
    "* Красный карлик - 0\n",
    "* Коричневый карлик - 1\n",
    "* Белый карлик - 2\n",
    "* Основная последовательность - 3\n",
    "* Супергиганты - 4\n",
    "* Гипергиганты - 5"
   ]
  },
  {
   "cell_type": "markdown",
   "id": "0dc89ab5",
   "metadata": {},
   "source": [
    "# Задание\n",
    "Необходимо оценить и сравнить результаты классификации, используя следующие\n",
    "алгоритмы классификации:\n",
    "* kNN\n",
    "* дерево решений"
   ]
  },
  {
   "cell_type": "markdown",
   "id": "f13d5599",
   "metadata": {},
   "source": [
    "Стандартизируем набор данных"
   ]
  },
  {
   "cell_type": "code",
   "execution_count": 235,
   "id": "fc286b3a",
   "metadata": {},
   "outputs": [],
   "source": [
    "from sklearn.preprocessing import StandardScaler"
   ]
  },
  {
   "cell_type": "code",
   "execution_count": 236,
   "id": "9191c1b1",
   "metadata": {},
   "outputs": [],
   "source": [
    "x = df.drop(\"Type\", axis=1)\n",
    "#Создадим фиктивные переменные, поскольку у нас 2 атрибута - цвет, спектральный класс - текстовые\n",
    "x=pd.get_dummies(x,drop_first=True)\n",
    "\n",
    "#Стандартизация набора данных\n",
    "scaler = StandardScaler()\n",
    "scaler.fit(x)\n",
    "x = scaler.transform(x)"
   ]
  },
  {
   "cell_type": "markdown",
   "id": "c0319b70",
   "metadata": {},
   "source": [
    "Разделим датасет на обучающую и тестовую выборки"
   ]
  },
  {
   "cell_type": "code",
   "execution_count": 237,
   "id": "872427dd",
   "metadata": {},
   "outputs": [],
   "source": [
    "from sklearn.model_selection import train_test_split"
   ]
  },
  {
   "cell_type": "code",
   "execution_count": 238,
   "id": "55b6b08f",
   "metadata": {},
   "outputs": [],
   "source": [
    "y = df['Type']\n",
    "x_training_data, x_test_data, y_training_data, y_test_data = train_test_split(x, y, test_size = 0.2)"
   ]
  },
  {
   "cell_type": "markdown",
   "id": "1e4414e0",
   "metadata": {},
   "source": [
    "# Обучение модели K-ближайших соседей"
   ]
  },
  {
   "cell_type": "code",
   "execution_count": 239,
   "id": "e963fb28",
   "metadata": {},
   "outputs": [],
   "source": [
    "from sklearn.neighbors import KNeighborsClassifier"
   ]
  },
  {
   "cell_type": "code",
   "execution_count": 240,
   "id": "ca2cf5a9",
   "metadata": {},
   "outputs": [],
   "source": [
    "model = KNeighborsClassifier(n_neighbors = 3)\n",
    "model.fit(x_training_data, y_training_data)\n",
    "predictions = model.predict(x_test_data)\n",
    "predictions_prob = model.predict_proba(x_test_data)"
   ]
  },
  {
   "cell_type": "markdown",
   "id": "7428ac40",
   "metadata": {},
   "source": [
    "Результаты классификации:"
   ]
  },
  {
   "cell_type": "code",
   "execution_count": 241,
   "id": "dc5f3b6e",
   "metadata": {},
   "outputs": [],
   "source": [
    "from sklearn.metrics import classification_report"
   ]
  },
  {
   "cell_type": "code",
   "execution_count": 242,
   "id": "66b88413",
   "metadata": {},
   "outputs": [
    {
     "name": "stdout",
     "output_type": "stream",
     "text": [
      "              precision    recall  f1-score   support\n",
      "\n",
      "           0       1.00      1.00      1.00         5\n",
      "           1       1.00      1.00      1.00        10\n",
      "           2       0.89      1.00      0.94         8\n",
      "           3       1.00      1.00      1.00        11\n",
      "           4       1.00      0.86      0.92         7\n",
      "           5       1.00      1.00      1.00         7\n",
      "\n",
      "    accuracy                           0.98        48\n",
      "   macro avg       0.98      0.98      0.98        48\n",
      "weighted avg       0.98      0.98      0.98        48\n",
      "\n"
     ]
    }
   ],
   "source": [
    "print(classification_report(y_test_data, predictions))"
   ]
  },
  {
   "cell_type": "markdown",
   "id": "64171130",
   "metadata": {},
   "source": [
    "ROC:"
   ]
  },
  {
   "cell_type": "code",
   "execution_count": 243,
   "id": "1febbc40",
   "metadata": {},
   "outputs": [],
   "source": [
    "from sklearn.metrics import roc_curve, auc\n",
    "from sklearn.metrics import roc_auc_score"
   ]
  },
  {
   "cell_type": "code",
   "execution_count": 244,
   "id": "49edbb04",
   "metadata": {},
   "outputs": [
    {
     "name": "stdout",
     "output_type": "stream",
     "text": [
      "ROC AUC=1.000\n"
     ]
    }
   ],
   "source": [
    "roc_auc = roc_auc_score(y_test_data, predictions_prob, multi_class='ovr')\n",
    "print('ROC AUC=%.3f' % (roc_auc))"
   ]
  },
  {
   "cell_type": "markdown",
   "id": "1a4375a3",
   "metadata": {},
   "source": [
    "# Обучение модели Дерево решений"
   ]
  },
  {
   "cell_type": "code",
   "execution_count": 245,
   "id": "7b0d0588",
   "metadata": {},
   "outputs": [],
   "source": [
    "from sklearn.tree import DecisionTreeClassifier"
   ]
  },
  {
   "cell_type": "code",
   "execution_count": 246,
   "id": "130f34db",
   "metadata": {},
   "outputs": [],
   "source": [
    "model_tree = DecisionTreeClassifier()\n",
    "model_tree.fit(x_training_data, y_training_data)\n",
    "predictions_tree = model_tree.predict(x_test_data)\n",
    "predictions_tree_prob = model_tree.predict_proba(x_test_data)"
   ]
  },
  {
   "cell_type": "code",
   "execution_count": 247,
   "id": "b8430676",
   "metadata": {},
   "outputs": [
    {
     "name": "stdout",
     "output_type": "stream",
     "text": [
      "              precision    recall  f1-score   support\n",
      "\n",
      "           0       1.00      1.00      1.00         5\n",
      "           1       1.00      1.00      1.00        10\n",
      "           2       1.00      1.00      1.00         8\n",
      "           3       1.00      1.00      1.00        11\n",
      "           4       1.00      1.00      1.00         7\n",
      "           5       1.00      1.00      1.00         7\n",
      "\n",
      "    accuracy                           1.00        48\n",
      "   macro avg       1.00      1.00      1.00        48\n",
      "weighted avg       1.00      1.00      1.00        48\n",
      "\n"
     ]
    }
   ],
   "source": [
    "print(classification_report(y_test_data, predictions_tree))"
   ]
  },
  {
   "cell_type": "markdown",
   "id": "a66c0bd6",
   "metadata": {},
   "source": [
    "ROC:"
   ]
  },
  {
   "cell_type": "code",
   "execution_count": 248,
   "id": "09148b4f",
   "metadata": {},
   "outputs": [
    {
     "name": "stdout",
     "output_type": "stream",
     "text": [
      "ROC AUC=1.000\n"
     ]
    }
   ],
   "source": [
    "roc_auc_tree = roc_auc_score(y_test_data, predictions_tree_prob, multi_class='ovr')\n",
    "print('ROC AUC=%.3f' % (roc_auc))"
   ]
  },
  {
   "cell_type": "markdown",
   "id": "3d91312a",
   "metadata": {},
   "source": [
    "# Дополнительно от меня"
   ]
  },
  {
   "cell_type": "markdown",
   "id": "b3b8cb44",
   "metadata": {},
   "source": [
    "Проверим наши модели. Возьмем данные по этой звезде: https://en.wikipedia.org/wiki/HD_202628\n",
    "* Температура = 5843\n",
    "* L = 0.951\n",
    "* R = 0.951\n",
    "* A_M = 4.856\n",
    "* color = yellowish\n",
    "* Spectral_Class = G\n",
    "Мы как бы не знаем, что звезда относится к классу главной последовательности (3) и хотим, чтобы модель предсказала нам это."
   ]
  },
  {
   "cell_type": "code",
   "execution_count": 249,
   "id": "a9e46dd5",
   "metadata": {},
   "outputs": [],
   "source": [
    "star = [[5843, 0.951, 0.951, 4.856, 'yellowish','G']]"
   ]
  },
  {
   "cell_type": "code",
   "execution_count": 255,
   "id": "29fd02ce",
   "metadata": {},
   "outputs": [],
   "source": [
    "def star_type(star, model):\n",
    "    #Добавим нашу звезду к датафрейму для удобства извлечения после добавления фиктивных переменных\n",
    "    header = df.drop(\"Type\", axis=1).columns.values\n",
    "    t_df = pd.DataFrame(star, columns=header)\n",
    "    t_df = df.drop(\"Type\", axis=1).append(t_df)\n",
    "    \n",
    "    #Создадим фиктивные переменные, поскольку у нас 2 атрибута - цвет, спектральный класс - текстовые\n",
    "    value=pd.get_dummies(t_df,drop_first=True)\n",
    "    \n",
    "    #Стандартизация набора данных\n",
    "    scaler = StandardScaler()\n",
    "    scaler.fit(value)\n",
    "    value = scaler.transform(value)\n",
    "    value = value[-1]\n",
    "    _type = model.predict(value.reshape(1,-1))\n",
    "    \n",
    "    if (_type == 0):\n",
    "        print(\"Красный карлик\",_type)\n",
    "    elif (_type == 1):\n",
    "        print(\"Коричневый карлик\",_type)\n",
    "    elif (_type == 2):\n",
    "        print(\"Белый карлик\",_type)\n",
    "    elif (_type == 3):\n",
    "        print(\"Звезда главной последовательности\",_type)\n",
    "    elif (_type == 4):\n",
    "        print(\"Супер-гигант\",_type)\n",
    "    else:\n",
    "        print(\"Гипер-гигант\",_type)\n",
    "        \n",
    "    "
   ]
  },
  {
   "cell_type": "code",
   "execution_count": 256,
   "id": "bffbbfba",
   "metadata": {},
   "outputs": [
    {
     "name": "stdout",
     "output_type": "stream",
     "text": [
      "Метод Дерево решений:\n",
      "Гипер-гигант [5]\n",
      "\n",
      "Метод K-ближайших соседей:\n",
      "Белый карлик [2]\n"
     ]
    }
   ],
   "source": [
    "print(\"Метод Дерево решений:\")\n",
    "star_type(star, model_tree)\n",
    "print()\n",
    "print(\"Метод K-ближайших соседей:\")\n",
    "star_type(star, model)"
   ]
  },
  {
   "cell_type": "markdown",
   "id": "0122227a",
   "metadata": {},
   "source": [
    "Хочу проверить еще одну звезду, но теперь методом K-ближайших соседей: https/en.wikipedia.org/wiki/HD_168625\n",
    "* Температура = 14000\n",
    "* L = 380000\n",
    "* R = 105\n",
    "* A_M = -8.39\n",
    "* color = Blue\n",
    "* Spectral_Class = B\n"
   ]
  },
  {
   "cell_type": "code",
   "execution_count": 257,
   "id": "1a2d8bd9",
   "metadata": {},
   "outputs": [
    {
     "name": "stdout",
     "output_type": "stream",
     "text": [
      "Метод Дерево решений:\n",
      "Гипер-гигант [5]\n",
      "\n",
      "Метод K-ближайших соседей:\n",
      "Белый карлик [2]\n"
     ]
    }
   ],
   "source": [
    "star = [[14000, 380000, 105, -8.39, 'Blue','B']]\n",
    "print(\"Метод Дерево решений:\")\n",
    "star_type(star, model_tree)\n",
    "print()\n",
    "print(\"Метод K-ближайших соседей:\")\n",
    "star_type(star, model)"
   ]
  },
  {
   "cell_type": "markdown",
   "id": "9b0fff44",
   "metadata": {},
   "source": [
    "# Итог по дополнительному\n",
    "Дерево решений точно определило оба типа звезд: первая была звезда главной последвательности, вторая - Гипер-гигант.\n",
    "Метод k-ближайших соседей неверно определил вторую звезду, отнёс её к классу белый карлик.\n"
   ]
  },
  {
   "cell_type": "markdown",
   "id": "f75777c6",
   "metadata": {},
   "source": [
    "# Выводы по работе\n",
    "Accuracy, precision, recall и f1 - единица у дерева.\n",
    "\n",
    "У модели k-ближайших соедей для разных типов звезд precision, recall и f1 находятся в диапазоне от 0.86 до 1.\n",
    "Для этой модели необходимо точнее подбирать параметр соседей, я выбирал 1, а потом 3. Ни один не показывает идеальную точность (0.96 и 0.98 соответственно) Последний вариант параметра (3) представлен в данный момент.\n",
    "\n",
    "Площадь под кривой ROC для обоих моделей оказалась 1. Но здесь либо порешность вычисления, либо я ошибся в написании кода, поскольку модель k-ближайших соседей ложно срабатывает на примере Гипер-гиганта...\n"
   ]
  }
 ],
 "metadata": {
  "kernelspec": {
   "display_name": "Python 3 (ipykernel)",
   "language": "python",
   "name": "python3"
  },
  "language_info": {
   "codemirror_mode": {
    "name": "ipython",
    "version": 3
   },
   "file_extension": ".py",
   "mimetype": "text/x-python",
   "name": "python",
   "nbconvert_exporter": "python",
   "pygments_lexer": "ipython3",
   "version": "3.7.9"
  }
 },
 "nbformat": 4,
 "nbformat_minor": 5
}
